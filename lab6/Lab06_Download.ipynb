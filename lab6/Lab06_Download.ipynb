{
 "cells": [
  {
   "cell_type": "markdown",
   "metadata": {},
   "source": [
    "# CS 115 Introduction to Programming with Python\n",
    "## Lab Guide 06\n",
    "### Objectives: Two Dimensional Lists, Numpy Module"
   ]
  },
  {
   "cell_type": "markdown",
   "metadata": {},
   "source": [
    "## Question 1\n",
    "Write a function that takes a 3x3 list of integers and returns True if the list contains all integer values between 1 and 9, False if not."
   ]
  },
  {
   "cell_type": "code",
   "execution_count": 13,
   "metadata": {},
   "outputs": [],
   "source": [
    "def check_matrix(m):\n",
    "    lookup = {}\n",
    "    for i in range(len(m)):\n",
    "        for j in range(len(m[i])):\n",
    "            if m[i][j] not in lookup:\n",
    "                lookup[m[i][j]] = (i, j)\n",
    "\n",
    "    return len(lookup) == 9"
   ]
  },
  {
   "cell_type": "markdown",
   "metadata": {},
   "source": [
    "Initialize a 3x3 two dimensional list with the following values: 1,9,5,4,7,6,3,8,2. \n",
    "Pass the list to the function and display the result."
   ]
  },
  {
   "cell_type": "code",
   "execution_count": 14,
   "metadata": {},
   "outputs": [],
   "source": [
    "m = [[1, 9, 5], [4, 7, 6], [3, 8, 2]]"
   ]
  },
  {
   "cell_type": "code",
   "execution_count": 15,
   "metadata": {},
   "outputs": [],
   "source": [
    "res = check_matrix(m)"
   ]
  },
  {
   "cell_type": "code",
   "execution_count": 16,
   "metadata": {},
   "outputs": [
    {
     "name": "stdout",
     "output_type": "stream",
     "text": [
      "True\n"
     ]
    }
   ],
   "source": [
    "print(res)"
   ]
  },
  {
   "cell_type": "markdown",
   "metadata": {},
   "source": [
    "## Question 2\n",
    "Download the files: catsM_1 to catsM_5.  These file contain data about cats and their body and heart weight.\n",
    "* catsM_1: contains the sex of 97 cats, 1: Female, 2:Male.\n",
    "* catsM_2: contains the body weight(in kg) of the first 15 cats.\n",
    "* catsM_3: contains the heart weight(in grams) of the first 15 cats.\n",
    "* catsM_4: contains the body weight(in kg)  of the last 82 cats.\n",
    "* catsM_5: contains the heart weight(in grams) of the last 82 cats.\n"
   ]
  },
  {
   "cell_type": "markdown",
   "metadata": {},
   "source": [
    "### Import numpy"
   ]
  },
  {
   "cell_type": "code",
   "execution_count": 17,
   "metadata": {},
   "outputs": [],
   "source": [
    "import numpy as np"
   ]
  },
  {
   "cell_type": "markdown",
   "metadata": {},
   "source": [
    "### Load the data from the files above into numpy arrays."
   ]
  },
  {
   "cell_type": "code",
   "execution_count": 18,
   "metadata": {},
   "outputs": [],
   "source": [
    "M_1 = 0\n",
    "M_2 = 1\n",
    "M_3 = 2\n",
    "M_4 = 3\n",
    "M_5 = 4\n",
    "\n",
    "catsDatas = [\n",
    "    np.delete(np.genfromtxt(\"catsM_1.csv\"), 0, axis=0),\n",
    "    np.delete(np.genfromtxt(\"catsM_2.csv\"), 0, axis=0),\n",
    "    np.delete(np.genfromtxt(\"catsM_3.csv\"), 0, axis=0),\n",
    "    np.delete(np.genfromtxt(\"catsM_4.csv\"), 0, axis=0),\n",
    "    np.delete(np.genfromtxt(\"catsM_5.csv\"), 0, axis=0)\n",
    "]"
   ]
  },
  {
   "cell_type": "markdown",
   "metadata": {},
   "source": [
    "### Reshape all arrays, to have n rows, and 1 column. For example, the array containing the sex of all cats should have 97 rows and 1 column.  \n",
    "#### The array containing the body weight of the first 15 cats should have 15 rows and 1 column."
   ]
  },
  {
   "cell_type": "code",
   "execution_count": 19,
   "metadata": {},
   "outputs": [],
   "source": [
    "catsDatas = [data.reshape(data.shape[0], 1) for data in catsDatas]"
   ]
  },
  {
   "cell_type": "markdown",
   "metadata": {},
   "source": [
    "### Using concatenate, vstack and hstack, create a table (97x3 array) that contains the columns: sex, body weight, heart weight."
   ]
  },
  {
   "cell_type": "code",
   "execution_count": 20,
   "metadata": {},
   "outputs": [],
   "source": [
    "body_weight_data = np.concatenate([catsDatas[M_2], catsDatas[M_4]])\n",
    "heart_weight_data = np.concatenate([catsDatas[M_3], catsDatas[M_5]])\n",
    "sex_data = catsDatas[M_1]\n",
    "\n",
    "data = np.hstack((sex_data, body_weight_data, heart_weight_data))"
   ]
  },
  {
   "cell_type": "markdown",
   "metadata": {},
   "source": [
    "### Decrease the body weight of all cats by 10% and display the result. (Table should be updated)"
   ]
  },
  {
   "cell_type": "code",
   "execution_count": 21,
   "metadata": {},
   "outputs": [
    {
     "name": "stdout",
     "output_type": "stream",
     "text": [
      "[[ 2.    0.2   6.5 ]\n",
      " [ 2.    0.2   6.5 ]\n",
      " [ 1.    0.21 10.1 ]\n",
      " [ 2.    0.22  7.2 ]\n",
      " [ 2.    0.22  7.6 ]\n",
      " [ 2.    0.22  7.9 ]\n",
      " [ 1.    0.22  8.5 ]\n",
      " [ 1.    0.22  9.1 ]\n",
      " [ 2.    0.22  9.6 ]\n",
      " [ 2.    0.22  9.6 ]\n",
      " [ 2.    0.22 10.7 ]\n",
      " [ 1.    0.23  9.6 ]\n",
      " [ 2.    0.24  7.3 ]\n",
      " [ 2.    0.24  7.9 ]\n",
      " [ 2.    0.24  7.9 ]\n",
      " [ 1.    0.24  9.1 ]\n",
      " [ 2.    0.24  9.3 ]\n",
      " [ 2.    0.25  7.9 ]\n",
      " [ 2.    0.25  8.6 ]\n",
      " [ 2.    0.25  8.8 ]\n",
      " [ 2.    0.25  8.8 ]\n",
      " [ 1.    0.25  9.3 ]\n",
      " [ 1.    0.25 11.  ]\n",
      " [ 2.    0.25 12.7 ]\n",
      " [ 2.    0.25 12.7 ]\n",
      " [ 2.    0.26  7.7 ]\n",
      " [ 1.    0.26  8.3 ]\n",
      " [ 2.    0.26  9.4 ]\n",
      " [ 2.    0.26  9.4 ]\n",
      " [ 1.    0.26 10.5 ]\n",
      " [ 2.    0.26 11.5 ]\n",
      " [ 2.    0.27  8.  ]\n",
      " [ 2.    0.27  9.  ]\n",
      " [ 2.    0.27  9.6 ]\n",
      " [ 2.    0.27  9.6 ]\n",
      " [ 1.    0.27  9.8 ]\n",
      " [ 2.    0.27 10.4 ]\n",
      " [ 2.    0.27 11.1 ]\n",
      " [ 2.    0.27 12.  ]\n",
      " [ 1.    0.27 12.5 ]\n",
      " [ 2.    0.28  9.1 ]\n",
      " [ 2.    0.28 10.  ]\n",
      " [ 2.    0.28 10.2 ]\n",
      " [ 2.    0.28 11.4 ]\n",
      " [ 2.    0.28 12.  ]\n",
      " [ 2.    0.28 13.3 ]\n",
      " [ 2.    0.28 13.5 ]\n",
      " [ 1.    0.29  9.4 ]\n",
      " [ 2.    0.29 10.1 ]\n",
      " [ 2.    0.29 10.6 ]\n",
      " [ 1.    0.29 11.3 ]\n",
      " [ 2.    0.29 11.8 ]\n",
      " [ 2.    0.3  10.  ]\n",
      " [ 2.    0.3  10.4 ]\n",
      " [ 1.    0.3  10.6 ]\n",
      " [ 2.    0.3  11.6 ]\n",
      " [ 2.    0.3  12.2 ]\n",
      " [ 2.    0.3  12.4 ]\n",
      " [ 2.    0.3  12.7 ]\n",
      " [ 1.    0.3  13.3 ]\n",
      " [ 2.    0.3  13.8 ]\n",
      " [ 2.    0.31  9.9 ]\n",
      " [ 2.    0.31 11.5 ]\n",
      " [ 1.    0.31 12.1 ]\n",
      " [ 2.    0.31 12.5 ]\n",
      " [ 2.    0.31 13.  ]\n",
      " [ 2.    0.31 14.3 ]\n",
      " [ 2.    0.32 11.6 ]\n",
      " [ 2.    0.32 11.9 ]\n",
      " [ 2.    0.32 12.3 ]\n",
      " [ 1.    0.32 13.  ]\n",
      " [ 2.    0.32 13.5 ]\n",
      " [ 2.    0.32 13.6 ]\n",
      " [ 2.    0.33 11.5 ]\n",
      " [ 2.    0.33 12.  ]\n",
      " [ 2.    0.33 14.1 ]\n",
      " [ 2.    0.33 14.9 ]\n",
      " [ 2.    0.33 15.4 ]\n",
      " [ 2.    0.34 11.2 ]\n",
      " [ 2.    0.34 12.2 ]\n",
      " [ 2.    0.34 12.4 ]\n",
      " [ 2.    0.34 12.8 ]\n",
      " [ 2.    0.34 14.4 ]\n",
      " [ 1.    0.35 11.7 ]\n",
      " [ 2.    0.35 12.9 ]\n",
      " [ 2.    0.35 15.6 ]\n",
      " [ 2.    0.35 15.7 ]\n",
      " [ 2.    0.35 17.2 ]\n",
      " [ 2.    0.36 11.8 ]\n",
      " [ 1.    0.36 13.3 ]\n",
      " [ 1.    0.36 14.8 ]\n",
      " [ 1.    0.36 15.  ]\n",
      " [ 2.    0.37 11.  ]\n",
      " [ 2.    0.38 14.8 ]\n",
      " [ 2.    0.38 16.8 ]\n",
      " [ 1.    0.39 14.4 ]\n",
      " [ 2.    0.39 20.5 ]]\n"
     ]
    }
   ],
   "source": [
    "data[:,1] *= 0.1\n",
    "print(data)"
   ]
  },
  {
   "cell_type": "markdown",
   "metadata": {},
   "source": [
    "### Display the indices of all female cats."
   ]
  },
  {
   "cell_type": "code",
   "execution_count": 22,
   "metadata": {},
   "outputs": [
    {
     "name": "stdout",
     "output_type": "stream",
     "text": [
      "(array([ 2,  6,  7, 11, 15, 21, 22, 26, 29, 35, 39, 47, 50, 54, 59, 63, 70,\n",
      "       83, 89, 90, 91, 95]),)\n"
     ]
    }
   ],
   "source": [
    "print(np.where(data[:,0] == 1))"
   ]
  },
  {
   "cell_type": "markdown",
   "metadata": {},
   "source": [
    "### Display the data of all male cats with heart weight over 15."
   ]
  },
  {
   "cell_type": "code",
   "execution_count": 23,
   "metadata": {},
   "outputs": [
    {
     "name": "stdout",
     "output_type": "stream",
     "text": [
      "[[ 2.    0.33 15.4 ]\n",
      " [ 2.    0.35 15.6 ]\n",
      " [ 2.    0.35 15.7 ]\n",
      " [ 2.    0.35 17.2 ]\n",
      " [ 2.    0.38 16.8 ]\n",
      " [ 2.    0.39 20.5 ]]\n"
     ]
    }
   ],
   "source": [
    "print(data[(data[:,0] == 2) & (data[:, 2] > 15)])"
   ]
  }
 ],
 "metadata": {
  "kernelspec": {
   "display_name": "Python 3",
   "language": "python",
   "name": "python3"
  },
  "language_info": {
   "codemirror_mode": {
    "name": "ipython",
    "version": 3
   },
   "file_extension": ".py",
   "mimetype": "text/x-python",
   "name": "python",
   "nbconvert_exporter": "python",
   "pygments_lexer": "ipython3",
   "version": "3.7.3"
  }
 },
 "nbformat": 4,
 "nbformat_minor": 2
}