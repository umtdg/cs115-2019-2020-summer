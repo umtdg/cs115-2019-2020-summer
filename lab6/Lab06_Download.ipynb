{
 "cells": [
  {
   "cell_type": "markdown",
   "metadata": {},
   "source": [
    "# CS 115 Introduction to Programming with Python\n",
    "## Lab Guide 06\n",
    "### Objectives: Two Dimensional Lists, Numpy Module"
   ]
  },
  {
   "cell_type": "markdown",
   "metadata": {},
   "source": [
    "## Question 1\n",
    "Write a function that takes a 3x3 list of integers and returns True if the list contains all integer values between 1 and 9, False if not."
   ]
  },
  {
   "cell_type": "code",
   "execution_count": 12,
   "metadata": {},
   "outputs": [],
   "source": [
    "def check_matrix(m):\n",
    "    lookup = {}\n",
    "    for i in range(len(m)):\n",
    "        for j in range(len(m[i])):\n",
    "            if m[i][j] not in lookup:\n",
    "                lookup[m[i][j]] = (i, j)\n",
    "\n",
    "    return len(lookup) == 9"
   ]
  },
  {
   "cell_type": "markdown",
   "metadata": {},
   "source": [
    "Initialize a 3x3 two dimensional list with the following values: 1,9,5,4,7,6,3,8,2. \n",
    "Pass the list to the function and display the result."
   ]
  },
  {
   "cell_type": "code",
   "execution_count": 13,
   "metadata": {},
   "outputs": [],
   "source": [
    "m = [[1, 9, 5], [4, 7, 6], [3, 8, 2]]"
   ]
  },
  {
   "cell_type": "code",
   "execution_count": 14,
   "metadata": {},
   "outputs": [],
   "source": [
    "res = check_matrix(m)"
   ]
  },
  {
   "cell_type": "code",
   "execution_count": 15,
   "metadata": {},
   "outputs": [
    {
     "name": "stdout",
     "output_type": "stream",
     "text": [
      "True\n"
     ]
    }
   ],
   "source": [
    "print(res)"
   ]
  },
  {
   "cell_type": "markdown",
   "metadata": {},
   "source": [
    "## Question 2\n",
    "Download the files: catsM_1 to catsM_5.  These file contain data about cats and their body and heart weight.\n",
    "* catsM_1: contains the sex of 97 cats, 1: Female, 2:Male.\n",
    "* catsM_2: contains the body weight(in kg) of the first 15 cats.\n",
    "* catsM_3: contains the heart weight(in grams) of the first 15 cats.\n",
    "* catsM_4: contains the body weight(in kg)  of the last 82 cats.\n",
    "* catsM_5: contains the heart weight(in grams) of the last 82 cats.\n"
   ]
  },
  {
   "cell_type": "markdown",
   "metadata": {},
   "source": [
    "### Import numpy"
   ]
  },
  {
   "cell_type": "code",
   "execution_count": 16,
   "metadata": {},
   "outputs": [],
   "source": [
    "import numpy as np"
   ]
  },
  {
   "cell_type": "markdown",
   "metadata": {},
   "source": [
    "### Load the data from the files above into numpy arrays."
   ]
  },
  {
   "cell_type": "code",
   "execution_count": 17,
   "metadata": {},
   "outputs": [],
   "source": [
    "M_1 = 0\n",
    "M_2 = 1\n",
    "M_3 = 2\n",
    "M_4 = 3\n",
    "M_5 = 4\n",
    "\n",
    "catsDatas = [\n",
    "    np.delete(np.genfromtxt(\"catsM_1.csv\"), 0, axis=0),\n",
    "    np.delete(np.genfromtxt(\"catsM_2.csv\"), 0, axis=0),\n",
    "    np.delete(np.genfromtxt(\"catsM_3.csv\"), 0, axis=0),\n",
    "    np.delete(np.genfromtxt(\"catsM_4.csv\"), 0, axis=0),\n",
    "    np.delete(np.genfromtxt(\"catsM_5.csv\"), 0, axis=0)\n",
    "]"
   ]
  },
  {
   "cell_type": "markdown",
   "metadata": {},
   "source": [
    "### Reshape all arrays, to have n rows, and 1 column. For example, the array containing the sex of all cats should have 97 rows and 1 column.  \n",
    "#### The array containing the body weight of the first 15 cats should have 15 rows and 1 column."
   ]
  },
  {
   "cell_type": "code",
   "execution_count": 18,
   "metadata": {},
   "outputs": [],
   "source": [
    "catsDatas = [data.reshape(data.shape[0], 1) for data in catsDatas]"
   ]
  },
  {
   "cell_type": "markdown",
   "metadata": {},
   "source": [
    "### Using concatenate, vstack and hstack, create a table (97x3 array) that contains the columns: sex, body weight, heart weight."
   ]
  },
  {
   "cell_type": "code",
   "execution_count": 19,
   "metadata": {},
   "outputs": [],
   "source": [
    "body_weight_data = np.concatenate([catsDatas[M_2], catsDatas[M_4]])\n",
    "heart_weight_data = np.concatenate([catsDatas[M_3], catsDatas[M_5]])\n",
    "sex_data = catsDatas[M_1]\n",
    "\n",
    "data = np.hstack((sex_data, body_weight_data, heart_weight_data))"
   ]
  },
  {
   "cell_type": "markdown",
   "metadata": {},
   "source": [
    "### Decrease the body weight of all cats by 10% and display the result. (Table should be updated)"
   ]
  },
  {
   "cell_type": "code",
   "execution_count": 20,
   "metadata": {},
   "outputs": [
    {
     "name": "stdout",
     "output_type": "stream",
     "text": [
      "[[ 2.    1.8   6.5 ]\n",
      " [ 2.    1.8   6.5 ]\n",
      " [ 1.    1.89 10.1 ]\n",
      " [ 2.    1.98  7.2 ]\n",
      " [ 2.    1.98  7.6 ]\n",
      " [ 2.    1.98  7.9 ]\n",
      " [ 1.    1.98  8.5 ]\n",
      " [ 1.    1.98  9.1 ]\n",
      " [ 2.    1.98  9.6 ]\n",
      " [ 2.    1.98  9.6 ]\n",
      " [ 2.    1.98 10.7 ]\n",
      " [ 1.    2.07  9.6 ]\n",
      " [ 2.    2.16  7.3 ]\n",
      " [ 2.    2.16  7.9 ]\n",
      " [ 2.    2.16  7.9 ]\n",
      " [ 1.    2.16  9.1 ]\n",
      " [ 2.    2.16  9.3 ]\n",
      " [ 2.    2.25  7.9 ]\n",
      " [ 2.    2.25  8.6 ]\n",
      " [ 2.    2.25  8.8 ]\n",
      " [ 2.    2.25  8.8 ]\n",
      " [ 1.    2.25  9.3 ]\n",
      " [ 1.    2.25 11.  ]\n",
      " [ 2.    2.25 12.7 ]\n",
      " [ 2.    2.25 12.7 ]\n",
      " [ 2.    2.34  7.7 ]\n",
      " [ 1.    2.34  8.3 ]\n",
      " [ 2.    2.34  9.4 ]\n",
      " [ 2.    2.34  9.4 ]\n",
      " [ 1.    2.34 10.5 ]\n",
      " [ 2.    2.34 11.5 ]\n",
      " [ 2.    2.43  8.  ]\n",
      " [ 2.    2.43  9.  ]\n",
      " [ 2.    2.43  9.6 ]\n",
      " [ 2.    2.43  9.6 ]\n",
      " [ 1.    2.43  9.8 ]\n",
      " [ 2.    2.43 10.4 ]\n",
      " [ 2.    2.43 11.1 ]\n",
      " [ 2.    2.43 12.  ]\n",
      " [ 1.    2.43 12.5 ]\n",
      " [ 2.    2.52  9.1 ]\n",
      " [ 2.    2.52 10.  ]\n",
      " [ 2.    2.52 10.2 ]\n",
      " [ 2.    2.52 11.4 ]\n",
      " [ 2.    2.52 12.  ]\n",
      " [ 2.    2.52 13.3 ]\n",
      " [ 2.    2.52 13.5 ]\n",
      " [ 1.    2.61  9.4 ]\n",
      " [ 2.    2.61 10.1 ]\n",
      " [ 2.    2.61 10.6 ]\n",
      " [ 1.    2.61 11.3 ]\n",
      " [ 2.    2.61 11.8 ]\n",
      " [ 2.    2.7  10.  ]\n",
      " [ 2.    2.7  10.4 ]\n",
      " [ 1.    2.7  10.6 ]\n",
      " [ 2.    2.7  11.6 ]\n",
      " [ 2.    2.7  12.2 ]\n",
      " [ 2.    2.7  12.4 ]\n",
      " [ 2.    2.7  12.7 ]\n",
      " [ 1.    2.7  13.3 ]\n",
      " [ 2.    2.7  13.8 ]\n",
      " [ 2.    2.79  9.9 ]\n",
      " [ 2.    2.79 11.5 ]\n",
      " [ 1.    2.79 12.1 ]\n",
      " [ 2.    2.79 12.5 ]\n",
      " [ 2.    2.79 13.  ]\n",
      " [ 2.    2.79 14.3 ]\n",
      " [ 2.    2.88 11.6 ]\n",
      " [ 2.    2.88 11.9 ]\n",
      " [ 2.    2.88 12.3 ]\n",
      " [ 1.    2.88 13.  ]\n",
      " [ 2.    2.88 13.5 ]\n",
      " [ 2.    2.88 13.6 ]\n",
      " [ 2.    2.97 11.5 ]\n",
      " [ 2.    2.97 12.  ]\n",
      " [ 2.    2.97 14.1 ]\n",
      " [ 2.    2.97 14.9 ]\n",
      " [ 2.    2.97 15.4 ]\n",
      " [ 2.    3.06 11.2 ]\n",
      " [ 2.    3.06 12.2 ]\n",
      " [ 2.    3.06 12.4 ]\n",
      " [ 2.    3.06 12.8 ]\n",
      " [ 2.    3.06 14.4 ]\n",
      " [ 1.    3.15 11.7 ]\n",
      " [ 2.    3.15 12.9 ]\n",
      " [ 2.    3.15 15.6 ]\n",
      " [ 2.    3.15 15.7 ]\n",
      " [ 2.    3.15 17.2 ]\n",
      " [ 2.    3.24 11.8 ]\n",
      " [ 1.    3.24 13.3 ]\n",
      " [ 1.    3.24 14.8 ]\n",
      " [ 1.    3.24 15.  ]\n",
      " [ 2.    3.33 11.  ]\n",
      " [ 2.    3.42 14.8 ]\n",
      " [ 2.    3.42 16.8 ]\n",
      " [ 1.    3.51 14.4 ]\n",
      " [ 2.    3.51 20.5 ]]\n"
     ]
    }
   ],
   "source": [
    "data[:,1] -= data[:,1] * 0.1\n",
    "print(data)"
   ]
  },
  {
   "cell_type": "markdown",
   "metadata": {},
   "source": [
    "### Display the indices of all female cats."
   ]
  },
  {
   "cell_type": "code",
   "execution_count": 21,
   "metadata": {},
   "outputs": [
    {
     "name": "stdout",
     "output_type": "stream",
     "text": [
      "(array([ 2,  6,  7, 11, 15, 21, 22, 26, 29, 35, 39, 47, 50, 54, 59, 63, 70,\n",
      "       83, 89, 90, 91, 95]),)\n"
     ]
    }
   ],
   "source": [
    "print(np.where(data[:,0] == 1))"
   ]
  },
  {
   "cell_type": "markdown",
   "metadata": {},
   "source": [
    "### Display the data of all male cats with heart weight over 15."
   ]
  },
  {
   "cell_type": "code",
   "execution_count": 22,
   "metadata": {},
   "outputs": [
    {
     "name": "stdout",
     "output_type": "stream",
     "text": [
      "[[ 2.    2.97 15.4 ]\n",
      " [ 2.    3.15 15.6 ]\n",
      " [ 2.    3.15 15.7 ]\n",
      " [ 2.    3.15 17.2 ]\n",
      " [ 2.    3.42 16.8 ]\n",
      " [ 2.    3.51 20.5 ]]\n"
     ]
    }
   ],
   "source": [
    "print(data[(data[:,0] == 2) & (data[:, 2] > 15)])"
   ]
  }
 ],
 "metadata": {
  "kernelspec": {
   "display_name": "Python 3",
   "language": "python",
   "name": "python3"
  },
  "language_info": {
   "codemirror_mode": {
    "name": "ipython",
    "version": 3
   },
   "file_extension": ".py",
   "mimetype": "text/x-python",
   "name": "python",
   "nbconvert_exporter": "python",
   "pygments_lexer": "ipython3",
   "version": "3.7.3"
  }
 },
 "nbformat": 4,
 "nbformat_minor": 2
}